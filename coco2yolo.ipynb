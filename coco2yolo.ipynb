{
 "cells": [
  {
   "cell_type": "code",
   "execution_count": null,
   "metadata": {},
   "outputs": [],
   "source": [
    "from pycocotools.coco import COCO\n",
    "import matplotlib.pyplot as plt\n",
    "import cv2\n",
    "import os\n",
    "import shutil\n",
    "import tqdm\n",
    "\n",
    "cocoSource = './src/'\n",
    "dataType = 'val2017'\n",
    "annFile = os.path.join(cocoSource, f'annotations/instances_{dataType}.json')\n",
    "cocoTarget = './target'\n",
    "source_imgFolder = os.path.join(cocoSource, f'images/{dataType}')\n",
    "target_imgFolder = os.path.join(cocoTarget, f'images/{dataType}')"
   ]
  },
  {
   "cell_type": "code",
   "execution_count": null,
   "metadata": {},
   "outputs": [],
   "source": [
    "coco=COCO(annFile)"
   ]
  },
  {
   "cell_type": "markdown",
   "metadata": {},
   "source": [
    "# `create_ann(img_id)`\n",
    "使用方法：\n",
    "* 輸入coco dataset中某一個類別的某一個影像id\n",
    "* 可以產生該影像檔的yolo annotations\n",
    "* 無傳回值"
   ]
  },
  {
   "cell_type": "code",
   "execution_count": null,
   "metadata": {},
   "outputs": [],
   "source": [
    "def create_ann(img_id):\n",
    "\n",
    "    img_info = coco.loadImgs(img_id) # 取得這張影像的資訊\n",
    "    img_info = img_info[0] # 將影像資訊從{}中拿出來\n",
    "    img_id = img_info['id'] # 取得影像id\n",
    "    file_name = img_info['file_name'] # 取得檔案名稱，無目錄資料\n",
    "    height = img_info['height'] # 取得檔案總高\n",
    "    width = img_info['width'] # 取得檔案總寬\n",
    "\n",
    "    yolo_ann_filename = os.path.join('./yolo_ann_output',os.path.splitext(file_name)[0]+\".txt\")\n",
    "    yolo_anns = []\n",
    "    annIds = coco.getAnnIds(imgIds=img_id) # 取得這個影像檔案的所有標記id\n",
    "    anns = coco.loadAnns(annIds) # 將所有標記值載入陣列\n",
    "    for ann in anns: # 迴圈讀所有的ann\n",
    "        category_id = ann['category_id'] # 讀取ann的類別id\n",
    "        if category_id not in range(1, 9): #如果不是交通工具類別，就不處理\n",
    "            continue\n",
    "        l1,l2,l3,l4 = ann['bbox'] # 取得bbox方框值(格式為左上x、y、長、寬)\n",
    "        \n",
    "        '''\n",
    "        以下四行轉為yolo格式\n",
    "        '''\n",
    "        \n",
    "        x1 = (l1 + l3 * 0.5) / width\n",
    "        x2 = (l2 + l4 * 0.5) / height\n",
    "        x3 = l3 / width\n",
    "        x4 = l4 / height\n",
    "        found_ann = f\"{category_id-1} {x1} {x2} {x3} {x4}\" #放入字串中\n",
    "        yolo_anns.append(found_ann) # 加到list中\n",
    "\n",
    "    if not os.path.exists(yolo_ann_filename): # 檢查檔案是否存在，不在存就建立一個，存在就跳過，表示處理過了\n",
    "        with open(yolo_ann_filename, 'w') as f: \n",
    "            f.write('\\n'.join(yolo_anns))  # 寫入yolo格式的annotations"
   ]
  },
  {
   "cell_type": "markdown",
   "metadata": {},
   "source": [
    "# 測試一個圖檔id"
   ]
  },
  {
   "cell_type": "code",
   "execution_count": null,
   "metadata": {},
   "outputs": [],
   "source": [
    "catId = 2 # Bicycle  \n",
    "imgIds = coco.getImgIds(catIds=catId)\n",
    "\n",
    "testimg_id = imgIds[3] # 取得這個類別的第一張影像\n",
    "create_ann(testimg_id)"
   ]
  },
  {
   "cell_type": "markdown",
   "metadata": {},
   "source": [
    "# 產生完整的annotations"
   ]
  },
  {
   "cell_type": "code",
   "execution_count": null,
   "metadata": {},
   "outputs": [],
   "source": [
    "for catid in range(1,9):\n",
    "    imgIds = coco.getImgIds(catIds=catid)\n",
    "    for imgid in tqdm.tqdm(imgIds):\n",
    "        create_ann(imgid)"
   ]
  },
  {
   "cell_type": "markdown",
   "metadata": {},
   "source": [
    "# 把需要的類別挑出來複製到`target`，這邊是挑交通工具，id從1-8"
   ]
  },
  {
   "cell_type": "code",
   "execution_count": null,
   "metadata": {},
   "outputs": [],
   "source": [
    "# def copyCat(imgId):\n",
    "#     for imgid in tqdm.tqdm(imgIds):\n",
    "#         img_info = coco.loadImgs(imgid)\n",
    "#         source_fname = os.path.join(source_imgFolder, img_info[0]['file_name'])\n",
    "#         target_fname = os.path.join(target_imgFolder, img_info[0]['file_name'])\n",
    "#         shutil.copy2(source_fname, target_fname)\n",
    "\n",
    "for catId in range(1,9):\n",
    "    imgIds = coco.getImgIds(catIds=catId)\n",
    "    print(catId)\n",
    "    for imgid in tqdm.tqdm(imgIds):\n",
    "        img_info = coco.loadImgs(imgid)\n",
    "        source_fname = os.path.join(source_imgFolder, img_info[0]['file_name'])\n",
    "        target_fname = os.path.join(target_imgFolder, img_info[0]['file_name'])\n",
    "        shutil.copy2(source_fname, target_fname)"
   ]
  },
  {
   "cell_type": "code",
   "execution_count": 10,
   "metadata": {},
   "outputs": [],
   "source": [
    "import glob\n",
    "jpgfiles = glob.glob(\"/home/joshhu/workspace/coco_traffic/target/images/val2017/*.jpg\")\n",
    "with open('val.txt', 'w') as f: \n",
    "    f.write('\\n'.join(jpgfiles))"
   ]
  },
  {
   "cell_type": "code",
   "execution_count": null,
   "metadata": {},
   "outputs": [],
   "source": [
    "catId = 2 # Bicycle  \n",
    "imgIds = coco.getImgIds(catIds=catId)\n",
    "\n",
    "testimg_id = imgIds[0] # 取得這個類別的第一張影像\n",
    "\n",
    "img_info = coco.loadImgs(testimg_id) # 取得這張影像的資訊\n",
    "img_info = img_info[0] # 將影像資訊從{}中拿出來\n",
    "img_id = img_info['id'] # 取得影像id\n",
    "file_name = img_info['file_name'] # 取得檔案名稱，無目錄資料\n",
    "height = img_info['height'] # 取得檔案總高\n",
    "width = img_info['width'] # 取得檔案總寬\n",
    "\n",
    "yolo_ann_filename = os.path.splitext(file_name)[0]+\".txt\"\n",
    "yolo_anns = []\n",
    "\n",
    "annIds = coco.getAnnIds(imgIds=img_id) # 取得這個影像檔案的所有標記id\n",
    "anns = coco.loadAnns(annIds) # 將所有標記值載入陣列\n",
    "for ann in anns:\n",
    "    category_id = ann['category_id']\n",
    "    if category_id not in range(1, 9):\n",
    "        continue\n",
    "    l1,l2,l3,l4 = ann['bbox']\n",
    "    x1 = (l1 + l3 * 0.5) / width\n",
    "    x2 = (l2 + l4 * 0.5) / height\n",
    "    x3 = l3 / width\n",
    "    x4 = l4 / height\n",
    "    found_ann = f\"{category_id-1} {x1} {x2} {x3} {x4}\"\n",
    "    yolo_anns.append(found_ann)\n",
    "\n",
    "if not os.path.exists(yolo_ann_filename):\n",
    "    with open(yolo_ann_filename, 'w') as f: \n",
    "        f.write('\\n'.join(yolo_anns))\n"
   ]
  },
  {
   "cell_type": "code",
   "execution_count": null,
   "metadata": {},
   "outputs": [],
   "source": [
    "f_location = os.path.join(target_imgFolder, file_name)\n",
    "img = cv2.imread(f_location)\n",
    "plt.imshow(img[:,:,::-1])\n"
   ]
  },
  {
   "cell_type": "code",
   "execution_count": null,
   "metadata": {},
   "outputs": [],
   "source": [
    "# annIds = coco.getAnnIds(catIds=1, iscrowd=1)\n",
    "# annIds = coco.getAnnIds(catIds=3)\n",
    "# annIds = coco.getAnnIds(imgIds=img_info[0]['id'], iscrowd=1)"
   ]
  }
 ],
 "metadata": {
  "kernelspec": {
   "display_name": "Python [conda env:pytorch] *",
   "language": "python",
   "name": "conda-env-pytorch-py"
  },
  "language_info": {
   "codemirror_mode": {
    "name": "ipython",
    "version": 3
   },
   "file_extension": ".py",
   "mimetype": "text/x-python",
   "name": "python",
   "nbconvert_exporter": "python",
   "pygments_lexer": "ipython3",
   "version": "3.7.5"
  }
 },
 "nbformat": 4,
 "nbformat_minor": 4
}
